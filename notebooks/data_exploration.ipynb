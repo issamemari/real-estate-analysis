{
 "cells": [
  {
   "cell_type": "code",
   "execution_count": 1,
   "metadata": {},
   "outputs": [],
   "source": [
    "import pandas as pd"
   ]
  },
  {
   "cell_type": "code",
   "execution_count": 10,
   "metadata": {},
   "outputs": [],
   "source": [
    "df = pd.read_csv(\n",
    "    f\"../data/2023/full.csv\",\n",
    "    dtype={\n",
    "        \"code_commune\": \"str\",\n",
    "        \"code_departement\": \"str\",\n",
    "        \"ancien_nom_commune\": \"str\",\n",
    "        \"numero_volume\": \"str\",\n",
    "        \"lot1_numero\": \"str\",\n",
    "        \"lot2_numero\": \"str\",\n",
    "        \"lot3_numero\": \"str\",\n",
    "        \"lot4_numero\": \"str\",\n",
    "        \"lot5_numero\": \"str\",\n",
    "        \"code_nature_culture_speciale\": \"str\",\n",
    "        \"nature_culture_speciale\": \"str\",\n",
    "    }\n",
    ")"
   ]
  },
  {
   "cell_type": "code",
   "execution_count": 12,
   "metadata": {},
   "outputs": [
    {
     "data": {
      "text/plain": [
       "Index(['id_mutation', 'date_mutation', 'numero_disposition', 'nature_mutation',\n",
       "       'valeur_fonciere', 'adresse_numero', 'adresse_suffixe',\n",
       "       'adresse_nom_voie', 'adresse_code_voie', 'code_postal', 'code_commune',\n",
       "       'nom_commune', 'code_departement', 'ancien_code_commune',\n",
       "       'ancien_nom_commune', 'id_parcelle', 'ancien_id_parcelle',\n",
       "       'numero_volume', 'lot1_numero', 'lot1_surface_carrez', 'lot2_numero',\n",
       "       'lot2_surface_carrez', 'lot3_numero', 'lot3_surface_carrez',\n",
       "       'lot4_numero', 'lot4_surface_carrez', 'lot5_numero',\n",
       "       'lot5_surface_carrez', 'nombre_lots', 'code_type_local', 'type_local',\n",
       "       'surface_reelle_bati', 'nombre_pieces_principales',\n",
       "       'code_nature_culture', 'nature_culture', 'code_nature_culture_speciale',\n",
       "       'nature_culture_speciale', 'surface_terrain', 'longitude', 'latitude'],\n",
       "      dtype='object')"
      ]
     },
     "execution_count": 12,
     "metadata": {},
     "output_type": "execute_result"
    }
   ],
   "source": [
    "df.columns"
   ]
  },
  {
   "cell_type": "code",
   "execution_count": null,
   "metadata": {},
   "outputs": [],
   "source": [
    "import plotly.express as px\n",
    "\n",
    "# Create scatter mapbox plot\n",
    "fig = px.scatter_mapbox(\n",
    "    df.sample(1000), \n",
    "    lat='latitude', \n",
    "    lon='longitude',\n",
    ")\n",
    "\n",
    "# Use open-street-map style\n",
    "fig.update_layout(mapbox_style=\"open-street-map\")\n",
    "\n",
    "# save the plot to a file\n",
    "fig.write_html(f\"../data/{year}/map.html\")"
   ]
  },
  {
   "cell_type": "code",
   "execution_count": 17,
   "metadata": {},
   "outputs": [
    {
     "name": "stdout",
     "output_type": "stream",
     "text": [
      "Checking whether there is an H2O instance running at http://localhost:54321..... not found.\n",
      "Attempting to start a local H2O server...\n",
      "  Java Version: java version \"20.0.1\" 2023-04-18; Java(TM) SE Runtime Environment (build 20.0.1+9-29); Java HotSpot(TM) 64-Bit Server VM (build 20.0.1+9-29, mixed mode, sharing)\n",
      "  Starting server from /Users/lukoadmin/.local/share/virtualenvs/real-estate-analysis-0TLcW-3l/lib/python3.8/site-packages/h2o/backend/bin/h2o.jar\n",
      "  Ice root: /var/folders/fj/ztykb2tx7cg16l9z3q0_c91w0000gp/T/tmp33n4zz9d\n",
      "  JVM stdout: /var/folders/fj/ztykb2tx7cg16l9z3q0_c91w0000gp/T/tmp33n4zz9d/h2o_lukoadmin_started_from_python.out\n",
      "  JVM stderr: /var/folders/fj/ztykb2tx7cg16l9z3q0_c91w0000gp/T/tmp33n4zz9d/h2o_lukoadmin_started_from_python.err\n",
      "  Server is running at http://127.0.0.1:54321\n",
      "Connecting to H2O server at http://127.0.0.1:54321 ... successful.\n"
     ]
    },
    {
     "data": {
      "text/html": [
       "\n",
       "<style>\n",
       "\n",
       "#h2o-table-1.h2o-container {\n",
       "  overflow-x: auto;\n",
       "}\n",
       "#h2o-table-1 .h2o-table {\n",
       "  /* width: 100%; */\n",
       "  margin-top: 1em;\n",
       "  margin-bottom: 1em;\n",
       "}\n",
       "#h2o-table-1 .h2o-table caption {\n",
       "  white-space: nowrap;\n",
       "  caption-side: top;\n",
       "  text-align: left;\n",
       "  /* margin-left: 1em; */\n",
       "  margin: 0;\n",
       "  font-size: larger;\n",
       "}\n",
       "#h2o-table-1 .h2o-table thead {\n",
       "  white-space: nowrap; \n",
       "  position: sticky;\n",
       "  top: 0;\n",
       "  box-shadow: 0 -1px inset;\n",
       "}\n",
       "#h2o-table-1 .h2o-table tbody {\n",
       "  overflow: auto;\n",
       "}\n",
       "#h2o-table-1 .h2o-table th,\n",
       "#h2o-table-1 .h2o-table td {\n",
       "  text-align: right;\n",
       "  /* border: 1px solid; */\n",
       "}\n",
       "#h2o-table-1 .h2o-table tr:nth-child(even) {\n",
       "  /* background: #F5F5F5 */\n",
       "}\n",
       "\n",
       "</style>      \n",
       "<div id=\"h2o-table-1\" class=\"h2o-container\">\n",
       "  <table class=\"h2o-table\">\n",
       "    <caption></caption>\n",
       "    <thead></thead>\n",
       "    <tbody><tr><td>H2O_cluster_uptime:</td>\n",
       "<td>02 secs</td></tr>\n",
       "<tr><td>H2O_cluster_timezone:</td>\n",
       "<td>Europe/Paris</td></tr>\n",
       "<tr><td>H2O_data_parsing_timezone:</td>\n",
       "<td>UTC</td></tr>\n",
       "<tr><td>H2O_cluster_version:</td>\n",
       "<td>3.44.0.1</td></tr>\n",
       "<tr><td>H2O_cluster_version_age:</td>\n",
       "<td>8 days</td></tr>\n",
       "<tr><td>H2O_cluster_name:</td>\n",
       "<td>H2O_from_python_lukoadmin_as5l3y</td></tr>\n",
       "<tr><td>H2O_cluster_total_nodes:</td>\n",
       "<td>1</td></tr>\n",
       "<tr><td>H2O_cluster_free_memory:</td>\n",
       "<td>2 Gb</td></tr>\n",
       "<tr><td>H2O_cluster_total_cores:</td>\n",
       "<td>8</td></tr>\n",
       "<tr><td>H2O_cluster_allowed_cores:</td>\n",
       "<td>8</td></tr>\n",
       "<tr><td>H2O_cluster_status:</td>\n",
       "<td>locked, healthy</td></tr>\n",
       "<tr><td>H2O_connection_url:</td>\n",
       "<td>http://127.0.0.1:54321</td></tr>\n",
       "<tr><td>H2O_connection_proxy:</td>\n",
       "<td>{\"http\": null, \"https\": null}</td></tr>\n",
       "<tr><td>H2O_internal_security:</td>\n",
       "<td>False</td></tr>\n",
       "<tr><td>Python_version:</td>\n",
       "<td>3.8.9 final</td></tr></tbody>\n",
       "  </table>\n",
       "</div>\n"
      ],
      "text/plain": [
       "--------------------------  --------------------------------\n",
       "H2O_cluster_uptime:         02 secs\n",
       "H2O_cluster_timezone:       Europe/Paris\n",
       "H2O_data_parsing_timezone:  UTC\n",
       "H2O_cluster_version:        3.44.0.1\n",
       "H2O_cluster_version_age:    8 days\n",
       "H2O_cluster_name:           H2O_from_python_lukoadmin_as5l3y\n",
       "H2O_cluster_total_nodes:    1\n",
       "H2O_cluster_free_memory:    2 Gb\n",
       "H2O_cluster_total_cores:    8\n",
       "H2O_cluster_allowed_cores:  8\n",
       "H2O_cluster_status:         locked, healthy\n",
       "H2O_connection_url:         http://127.0.0.1:54321\n",
       "H2O_connection_proxy:       {\"http\": null, \"https\": null}\n",
       "H2O_internal_security:      False\n",
       "Python_version:             3.8.9 final\n",
       "--------------------------  --------------------------------"
      ]
     },
     "metadata": {},
     "output_type": "display_data"
    },
    {
     "name": "stdout",
     "output_type": "stream",
     "text": [
      "Parse progress: |████████████████████████████████████████████████████████████████| (done) 100%\n"
     ]
    },
    {
     "ename": "TypeError",
     "evalue": "H2OAutoML got an unexpected keyword argument 'task'",
     "output_type": "error",
     "traceback": [
      "\u001b[0;31m---------------------------------------------------------------------------\u001b[0m",
      "\u001b[0;31mTypeError\u001b[0m                                 Traceback (most recent call last)",
      "\u001b[1;32m/Users/lukoadmin/Desktop/Personal/real-estate-analysis/notebooks/data_exploration.ipynb Cell 5\u001b[0m line \u001b[0;36m1\n\u001b[1;32m     <a href='vscode-notebook-cell:/Users/lukoadmin/Desktop/Personal/real-estate-analysis/notebooks/data_exploration.ipynb#X14sZmlsZQ%3D%3D?line=15'>16</a>\u001b[0m train, test \u001b[39m=\u001b[39m h2o_frame\u001b[39m.\u001b[39msplit_frame(ratios\u001b[39m=\u001b[39m[\u001b[39m0.8\u001b[39m])\n\u001b[1;32m     <a href='vscode-notebook-cell:/Users/lukoadmin/Desktop/Personal/real-estate-analysis/notebooks/data_exploration.ipynb#X14sZmlsZQ%3D%3D?line=17'>18</a>\u001b[0m \u001b[39m# Run AutoML for regression\u001b[39;00m\n\u001b[0;32m---> <a href='vscode-notebook-cell:/Users/lukoadmin/Desktop/Personal/real-estate-analysis/notebooks/data_exploration.ipynb#X14sZmlsZQ%3D%3D?line=18'>19</a>\u001b[0m aml \u001b[39m=\u001b[39m H2OAutoML(max_runtime_secs\u001b[39m=\u001b[39;49m\u001b[39m300\u001b[39;49m, task\u001b[39m=\u001b[39;49m\u001b[39m\"\u001b[39;49m\u001b[39mregression\u001b[39;49m\u001b[39m\"\u001b[39;49m)  \u001b[39m# Here, 300 seconds is just an example. Adjust it to your needs.\u001b[39;00m\n\u001b[1;32m     <a href='vscode-notebook-cell:/Users/lukoadmin/Desktop/Personal/real-estate-analysis/notebooks/data_exploration.ipynb#X14sZmlsZQ%3D%3D?line=19'>20</a>\u001b[0m aml\u001b[39m.\u001b[39mtrain(x\u001b[39m=\u001b[39mpredictors, y\u001b[39m=\u001b[39mtarget, training_frame\u001b[39m=\u001b[39mtrain)\n\u001b[1;32m     <a href='vscode-notebook-cell:/Users/lukoadmin/Desktop/Personal/real-estate-analysis/notebooks/data_exploration.ipynb#X14sZmlsZQ%3D%3D?line=21'>22</a>\u001b[0m \u001b[39m# View the AutoML Leaderboard\u001b[39;00m\n",
      "File \u001b[0;32m~/.local/share/virtualenvs/real-estate-analysis-0TLcW-3l/lib/python3.8/site-packages/h2o/automl/_estimator.py:307\u001b[0m, in \u001b[0;36mH2OAutoML.__init__\u001b[0;34m(self, nfolds, balance_classes, class_sampling_factors, max_after_balance_size, max_runtime_secs, max_runtime_secs_per_model, max_models, distribution, stopping_metric, stopping_tolerance, stopping_rounds, seed, project_name, exclude_algos, include_algos, exploitation_ratio, modeling_plan, preprocessing, monotone_constraints, keep_cross_validation_predictions, keep_cross_validation_models, keep_cross_validation_fold_assignment, sort_metric, custom_metric_func, export_checkpoints_dir, verbosity, **kwargs)\u001b[0m\n\u001b[1;32m    305\u001b[0m         algo_parameters \u001b[39m=\u001b[39m kwargs[k] \u001b[39mor\u001b[39;00m {}\n\u001b[1;32m    306\u001b[0m     \u001b[39melse\u001b[39;00m:\n\u001b[0;32m--> 307\u001b[0m         \u001b[39mraise\u001b[39;00m \u001b[39mTypeError\u001b[39;00m(\u001b[39m\"\u001b[39m\u001b[39mH2OAutoML got an unexpected keyword argument \u001b[39m\u001b[39m'\u001b[39m\u001b[39m%s\u001b[39;00m\u001b[39m'\u001b[39m\u001b[39m\"\u001b[39m \u001b[39m%\u001b[39m k)\n\u001b[1;32m    309\u001b[0m \u001b[39m# Check if H2O jar contains AutoML\u001b[39;00m\n\u001b[1;32m    310\u001b[0m \u001b[39mtry\u001b[39;00m:\n",
      "\u001b[0;31mTypeError\u001b[0m: H2OAutoML got an unexpected keyword argument 'task'"
     ]
    }
   ],
   "source": [
    "import h2o\n",
    "from h2o.automl import H2OAutoML\n",
    "\n",
    "# Initialize H2O\n",
    "h2o.init()\n",
    "\n",
    "# Convert the pandas dataframe to H2O frame\n",
    "h2o_frame = h2o.H2OFrame(df)\n",
    "\n",
    "# Define target and predictors\n",
    "target = 'valeur_fonciere'\n",
    "predictors = df.columns.tolist()\n",
    "predictors.remove(target)\n",
    "\n",
    "# Split the data into training and testing sets\n",
    "train, test = h2o_frame.split_frame(ratios=[0.8])\n",
    "\n",
    "# Run AutoML for regression\n",
    "aml = H2OAutoML(max_runtime_secs=300)  # Here, 300 seconds is just an example. Adjust it to your needs.\n",
    "aml.train(x=predictors, y=target, training_frame=train)\n",
    "\n",
    "# View the AutoML Leaderboard\n",
    "lb = aml.leaderboard\n",
    "print(lb.head(rows=lb.nrows))\n",
    "\n",
    "# Predict with the leader model\n",
    "preds = aml.leader.predict(test)\n",
    "\n",
    "# Shutdown H2O instance\n",
    "h2o.shutdown(prompt=False)"
   ]
  },
  {
   "cell_type": "code",
   "execution_count": null,
   "metadata": {},
   "outputs": [],
   "source": []
  }
 ],
 "metadata": {
  "kernelspec": {
   "display_name": "real-estate-analysis-0TLcW-3l-python",
   "language": "python",
   "name": "python3"
  },
  "language_info": {
   "codemirror_mode": {
    "name": "ipython",
    "version": 3
   },
   "file_extension": ".py",
   "mimetype": "text/x-python",
   "name": "python",
   "nbconvert_exporter": "python",
   "pygments_lexer": "ipython3",
   "version": "3.8.9"
  }
 },
 "nbformat": 4,
 "nbformat_minor": 2
}
